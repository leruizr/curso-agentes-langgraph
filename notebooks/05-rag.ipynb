{
 "cells": [
  {
   "cell_type": "code",
   "execution_count": 3,
   "id": "fc052112",
   "metadata": {},
   "outputs": [
    {
     "data": {
      "text/plain": [
       "True"
      ]
     },
     "execution_count": 3,
     "metadata": {},
     "output_type": "execute_result"
    }
   ],
   "source": [
    "from dotenv import load_dotenv\n",
    "load_dotenv()"
   ]
  },
  {
   "cell_type": "code",
   "execution_count": 4,
   "id": "68504644",
   "metadata": {},
   "outputs": [],
   "source": [
    "from langchain.chat_models import init_chat_model\n",
    "\n",
    "llm = init_chat_model(\"openai:gpt-4o\", temperature=0)"
   ]
  },
  {
   "cell_type": "code",
   "execution_count": 5,
   "id": "bba39406",
   "metadata": {},
   "outputs": [],
   "source": [
    "file_search_tool = {\n",
    "    \"type\": \"file_search\",\n",
    "    \"vector_store_ids\": [\"vs_68cf0f0255e481919cd3be25b96c5080\"],\n",
    "}\n",
    "llm_with_tools = llm.bind_tools([file_search_tool])"
   ]
  },
  {
   "cell_type": "code",
   "execution_count": 7,
   "id": "2e3c35a9",
   "metadata": {},
   "outputs": [
    {
     "data": {
      "text/plain": [
       "'Para mejorar el rendimiento de tu sitio web, puedes seguir estas recomendaciones:\\n\\n1. **Optimización de Imágenes**: Asegúrate de que las imágenes estén correctamente dimensionadas y utiliza formatos de próxima generación como WebP para reducir el tiempo de carga.\\n\\n2. **Eliminar Recursos que Bloquean el Renderizado**: Minimiza el uso de scripts y estilos que bloquean el renderizado para mejorar la velocidad de carga inicial.\\n\\n3. **Minificar JavaScript y CSS**: Reduce el tamaño de los archivos JavaScript y CSS eliminando espacios en blanco y comentarios innecesarios.\\n\\n4. **Habilitar la Compresión de Texto**: Utiliza la compresión Gzip o Brotli para reducir el tamaño de los archivos enviados desde el servidor.\\n\\n5. **Implementar AMP (Accelerated Mobile Pages)**: Considera usar AMP para crear páginas que carguen casi instantáneamente, mejorando la experiencia del usuario en dispositivos móviles.\\n\\n6. **Establecer Presupuestos de Rendimiento**: Define límites en métricas clave de rendimiento para asegurarte de que tu sitio se mantenga rápido a lo largo del tiempo.\\n\\n7. **Utilizar Herramientas de Análisis**: Herramientas como Lighthouse y PageSpeed Insights pueden ayudarte a identificar áreas de mejora y proporcionar recomendaciones específicas.\\n\\nImplementar estas prácticas puede ayudarte a mejorar significativamente el rendimiento de tu sitio web, lo que puede llevar a una mejor experiencia de usuario y mayores tasas de conversión.'"
      ]
     },
     "execution_count": 7,
     "metadata": {},
     "output_type": "execute_result"
    }
   ],
   "source": [
    "response = llm_with_tools.invoke(\"Como mejoro el rendimiento de mi website?\")\n",
    "response.text"
   ]
  },
  {
   "cell_type": "code",
   "execution_count": 8,
   "id": "6ef8ea76",
   "metadata": {},
   "outputs": [
    {
     "data": {
      "text/plain": [
       "'Mejorar el rendimiento de un sitio web es crucial para ofrecer una buena experiencia de usuario y optimizar el SEO. Aquí tienes algunas estrategias que puedes implementar:\\n\\n1. **Optimización de Imágenes**: Asegúrate de que las imágenes estén en el formato adecuado (como WebP) y comprimidas para reducir su tamaño sin perder calidad. Utiliza herramientas como TinyPNG o ImageOptim.\\n\\n2. **Uso de CDN (Content Delivery Network)**: Un CDN distribuye el contenido de tu sitio web a través de múltiples servidores en todo el mundo, reduciendo el tiempo de carga para los usuarios que están lejos del servidor principal.\\n\\n3. **Minificación de Archivos**: Reduce el tamaño de los archivos CSS, JavaScript y HTML eliminando espacios, comentarios y líneas innecesarias. Herramientas como UglifyJS y CSSNano pueden ayudarte.\\n\\n4. **Habilitar la Compresión**: Activa la compresión Gzip en tu servidor para reducir el tamaño de los archivos enviados al navegador.\\n\\n5. **Caché del Navegador**: Configura el caché del navegador para que los elementos estáticos de tu sitio se almacenen localmente en el dispositivo del usuario, reduciendo el tiempo de carga en visitas posteriores.\\n\\n6. **Optimización del Servidor**: Asegúrate de que tu servidor esté bien configurado y actualizado. Considera el uso de un servidor web más rápido como Nginx o LiteSpeed.\\n\\n7. **Reducción de Solicitudes HTTP**: Minimiza el número de solicitudes HTTP combinando archivos CSS y JavaScript, y utilizando sprites para imágenes.\\n\\n8. **Carga Diferida (Lazy Loading)**: Implementa la carga diferida para imágenes y vídeos, de modo que solo se carguen cuando estén a punto de entrar en el área visible del usuario.\\n\\n9. **Revisar Plugins y Scripts**: Desactiva o elimina plugins y scripts innecesarios que puedan estar ralentizando tu sitio.\\n\\n10. **Optimización de la Base de Datos**: Si usas un CMS como WordPress, optimiza tu base de datos eliminando revisiones de publicaciones, comentarios de spam y otros datos innecesarios.\\n\\n11. **Pruebas de Velocidad**: Utiliza herramientas como Google PageSpeed Insights, GTmetrix o Pingdom para analizar el rendimiento de tu sitio y obtener recomendaciones específicas.\\n\\n12. **Actualización de Tecnología**: Asegúrate de que tu sitio web esté utilizando las versiones más recientes de su software, incluyendo el CMS, temas y plugins.\\n\\nImplementar estas estrategias puede ayudar significativamente a mejorar el rendimiento de tu sitio web, ofreciendo una experiencia más rápida y fluida a tus usuarios.'"
      ]
     },
     "execution_count": 8,
     "metadata": {},
     "output_type": "execute_result"
    }
   ],
   "source": [
    "response = llm.invoke(\"Como mejoro el rendimiento de mi website?\")\n",
    "response.text"
   ]
  },
  {
   "cell_type": "code",
   "execution_count": 9,
   "id": "55c0a63a",
   "metadata": {},
   "outputs": [
    {
     "data": {
      "text/plain": [
       "'¡Hola! Estoy bien, gracias. ¿En qué puedo ayudarte hoy?'"
      ]
     },
     "execution_count": 9,
     "metadata": {},
     "output_type": "execute_result"
    }
   ],
   "source": [
    "response = llm_with_tools.invoke(\"Hola como estas?\")\n",
    "response.text"
   ]
  }
 ],
 "metadata": {
  "kernelspec": {
   "display_name": ".venv",
   "language": "python",
   "name": "python3"
  },
  "language_info": {
   "codemirror_mode": {
    "name": "ipython",
    "version": 3
   },
   "file_extension": ".py",
   "mimetype": "text/x-python",
   "name": "python",
   "nbconvert_exporter": "python",
   "pygments_lexer": "ipython3",
   "version": "3.12.3"
  }
 },
 "nbformat": 4,
 "nbformat_minor": 5
}
