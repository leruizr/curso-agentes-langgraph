{
 "cells": [
  {
   "cell_type": "code",
   "execution_count": 1,
   "id": "fc052112",
   "metadata": {},
   "outputs": [
    {
     "data": {
      "text/plain": [
       "True"
      ]
     },
     "execution_count": 1,
     "metadata": {},
     "output_type": "execute_result"
    }
   ],
   "source": [
    "from dotenv import load_dotenv\n",
    "load_dotenv()"
   ]
  },
  {
   "cell_type": "code",
   "execution_count": 2,
   "id": "68504644",
   "metadata": {},
   "outputs": [],
   "source": [
    "from langchain.chat_models import init_chat_model\n",
    "\n",
    "llm = init_chat_model(\"openai:gpt-4o\", temperature=0)"
   ]
  },
  {
   "cell_type": "code",
   "execution_count": 3,
   "id": "bba39406",
   "metadata": {},
   "outputs": [],
   "source": [
    "file_search_tool = {\n",
    "    \"type\": \"file_search\",\n",
    "    \"vector_store_ids\": [\"vs_68cf0f0255e481919cd3be25b96c5080\"],\n",
    "}\n",
    "llm_with_tools = llm.bind_tools([file_search_tool])"
   ]
  },
  {
   "cell_type": "code",
   "execution_count": 9,
   "id": "2e3c35a9",
   "metadata": {},
   "outputs": [
    {
     "data": {
      "text/plain": [
       "'Para mejorar el rendimiento de tu sitio web, puedes seguir estas recomendaciones:\\n\\n1. **Optimización de Imágenes**: Asegúrate de que las imágenes estén correctamente dimensionadas y utiliza formatos de próxima generación como WebP para reducir el tiempo de carga.\\n\\n2. **Eliminar Recursos que Bloquean el Renderizado**: Minimiza el uso de scripts y estilos que bloquean el renderizado para mejorar la velocidad de carga inicial.\\n\\n3. **Minificar JavaScript y CSS**: Reduce el tamaño de los archivos JavaScript y CSS eliminando espacios en blanco y comentarios innecesarios.\\n\\n4. **Habilitar la Compresión de Texto**: Utiliza la compresión Gzip para reducir el tamaño de los archivos enviados desde el servidor al navegador.\\n\\n5. **Implementar AMP (Accelerated Mobile Pages)**: Considera usar AMP para crear páginas web que carguen casi instantáneamente, mejorando la experiencia del usuario.\\n\\n6. **Establecer Presupuestos de Rendimiento**: Define límites en métricas clave como el Tiempo para Interactivo (TTI) y el Primer Pintado con Contenido (FCP) para mantener el rendimiento del sitio.\\n\\n7. **Utilizar Herramientas de Análisis**: Herramientas como Lighthouse y PageSpeed Insights pueden ayudarte a identificar áreas de mejora y proporcionar recomendaciones específicas.\\n\\nImplementar estas prácticas puede ayudarte a mejorar significativamente la velocidad y la experiencia del usuario en tu sitio web.'"
      ]
     },
     "execution_count": 9,
     "metadata": {},
     "output_type": "execute_result"
    }
   ],
   "source": [
    "response = llm_with_tools.invoke(\"Como mejoro el rendimiento de mi website?\")\n",
    "response.text"
   ]
  },
  {
   "cell_type": "code",
   "execution_count": 10,
   "id": "640745df",
   "metadata": {},
   "outputs": [
    {
     "data": {
      "text/plain": [
       "[{'id': 'fs_68cfeef6d5ac819fa2056676e991430709d80fe66c35a7c8',\n",
       "  'queries': ['mejorar el rendimiento del website',\n",
       "   'optimización del sitio web',\n",
       "   'mejorar velocidad de carga',\n",
       "   'mejorar experiencia de usuario en el sitio web'],\n",
       "  'status': 'completed',\n",
       "  'type': 'file_search_call'},\n",
       " {'type': 'text',\n",
       "  'text': 'Para mejorar el rendimiento de tu sitio web, puedes seguir estas recomendaciones:\\n\\n1. **Optimización de Imágenes**: Asegúrate de que las imágenes estén correctamente dimensionadas y utiliza formatos de próxima generación como WebP para reducir el tiempo de carga.\\n\\n2. **Eliminar Recursos que Bloquean el Renderizado**: Minimiza el uso de scripts y estilos que bloquean el renderizado para mejorar la velocidad de carga inicial.\\n\\n3. **Minificar JavaScript y CSS**: Reduce el tamaño de los archivos JavaScript y CSS eliminando espacios en blanco y comentarios innecesarios.\\n\\n4. **Habilitar la Compresión de Texto**: Utiliza la compresión Gzip para reducir el tamaño de los archivos enviados desde el servidor al navegador.\\n\\n5. **Implementar AMP (Accelerated Mobile Pages)**: Considera usar AMP para crear páginas web que carguen casi instantáneamente, mejorando la experiencia del usuario.\\n\\n6. **Establecer Presupuestos de Rendimiento**: Define límites en métricas clave como el Tiempo para Interactivo (TTI) y el Primer Pintado con Contenido (FCP) para mantener el rendimiento del sitio.\\n\\n7. **Utilizar Herramientas de Análisis**: Herramientas como Lighthouse y PageSpeed Insights pueden ayudarte a identificar áreas de mejora y proporcionar recomendaciones específicas.\\n\\nImplementar estas prácticas puede ayudarte a mejorar significativamente la velocidad y la experiencia del usuario en tu sitio web.',\n",
       "  'annotations': [{'file_id': 'file-YZJ3rKfonKs918gieGkYqa',\n",
       "    'filename': 'Mobile_Site_Speed_Playbook (1).pdf',\n",
       "    'index': 262,\n",
       "    'type': 'file_citation'},\n",
       "   {'file_id': 'file-YZJ3rKfonKs918gieGkYqa',\n",
       "    'filename': 'Mobile_Site_Speed_Playbook (1).pdf',\n",
       "    'index': 426,\n",
       "    'type': 'file_citation'},\n",
       "   {'file_id': 'file-YZJ3rKfonKs918gieGkYqa',\n",
       "    'filename': 'Mobile_Site_Speed_Playbook (1).pdf',\n",
       "    'index': 570,\n",
       "    'type': 'file_citation'},\n",
       "   {'file_id': 'file-YZJ3rKfonKs918gieGkYqa',\n",
       "    'filename': 'Mobile_Site_Speed_Playbook (1).pdf',\n",
       "    'index': 719,\n",
       "    'type': 'file_citation'},\n",
       "   {'file_id': 'file-YZJ3rKfonKs918gieGkYqa',\n",
       "    'filename': 'Mobile_Site_Speed_Playbook (1).pdf',\n",
       "    'index': 886,\n",
       "    'type': 'file_citation'},\n",
       "   {'file_id': 'file-YZJ3rKfonKs918gieGkYqa',\n",
       "    'filename': 'Mobile_Site_Speed_Playbook (1).pdf',\n",
       "    'index': 1085,\n",
       "    'type': 'file_citation'},\n",
       "   {'file_id': 'file-YZJ3rKfonKs918gieGkYqa',\n",
       "    'filename': 'Mobile_Site_Speed_Playbook (1).pdf',\n",
       "    'index': 1268,\n",
       "    'type': 'file_citation'}],\n",
       "  'id': 'msg_68cfeef930a0819fab2d9eddf68856d909d80fe66c35a7c8'}]"
      ]
     },
     "execution_count": 10,
     "metadata": {},
     "output_type": "execute_result"
    }
   ],
   "source": [
    "response.content"
   ]
  },
  {
   "cell_type": "code",
   "execution_count": 5,
   "id": "6ef8ea76",
   "metadata": {},
   "outputs": [
    {
     "data": {
      "text/plain": [
       "'Mejorar el rendimiento de un sitio web es crucial para ofrecer una buena experiencia de usuario y optimizar el SEO. Aquí tienes algunas estrategias que puedes considerar:\\n\\n1. **Optimización de Imágenes**: Asegúrate de que las imágenes estén en el formato adecuado (como WebP) y comprimidas para reducir su tamaño sin perder calidad. Utiliza herramientas como TinyPNG o ImageOptim.\\n\\n2. **Uso de CDN (Content Delivery Network)**: Un CDN distribuye el contenido de tu sitio web a través de múltiples servidores en todo el mundo, reduciendo el tiempo de carga para los usuarios que están lejos del servidor principal.\\n\\n3. **Minificación de Archivos**: Reduce el tamaño de los archivos CSS, JavaScript y HTML eliminando espacios en blanco, comentarios y líneas innecesarias. Herramientas como UglifyJS y CSSNano pueden ayudarte.\\n\\n4. **Habilitar la Compresión**: Activa la compresión Gzip en tu servidor para reducir el tamaño de los archivos enviados al navegador.\\n\\n5. **Caché del Navegador**: Configura el caché del navegador para que los elementos estáticos de tu sitio se almacenen localmente en el dispositivo del usuario, reduciendo el tiempo de carga en visitas posteriores.\\n\\n6. **Optimización del Servidor**: Asegúrate de que tu servidor esté configurado correctamente y considera actualizar a un servidor más rápido o a un plan de hosting mejor si es necesario.\\n\\n7. **Reducir las Solicitudes HTTP**: Minimiza el número de solicitudes HTTP combinando archivos CSS y JavaScript, y utilizando sprites para imágenes.\\n\\n8. **Lazy Loading**: Implementa el lazy loading para cargar imágenes y otros recursos solo cuando sean visibles en la pantalla del usuario.\\n\\n9. **Revisar y Optimizar el Código**: Asegúrate de que tu código esté limpio y optimizado. Elimina cualquier código innecesario o redundante.\\n\\n10. **Utilizar AMP (Accelerated Mobile Pages)**: Considera implementar AMP para mejorar la velocidad de carga en dispositivos móviles.\\n\\n11. **Monitoreo y Pruebas**: Utiliza herramientas como Google PageSpeed Insights, GTmetrix o Pingdom para analizar el rendimiento de tu sitio y obtener recomendaciones específicas.\\n\\n12. **Optimización de la Base de Datos**: Si usas un CMS como WordPress, optimiza tu base de datos eliminando revisiones de publicaciones, comentarios de spam y otros datos innecesarios.\\n\\nImplementar estas estrategias puede ayudar significativamente a mejorar el rendimiento de tu sitio web. Recuerda que la optimización es un proceso continuo, así que revisa y ajusta regularmente para mantener un rendimiento óptimo.'"
      ]
     },
     "execution_count": 5,
     "metadata": {},
     "output_type": "execute_result"
    }
   ],
   "source": [
    "response = llm.invoke(\"Como mejoro el rendimiento de mi website?\")\n",
    "response.text"
   ]
  },
  {
   "cell_type": "code",
   "execution_count": 6,
   "id": "55c0a63a",
   "metadata": {},
   "outputs": [
    {
     "data": {
      "text/plain": [
       "'¡Hola! Estoy bien, gracias. ¿En qué puedo ayudarte hoy con los archivos que has subido?'"
      ]
     },
     "execution_count": 6,
     "metadata": {},
     "output_type": "execute_result"
    }
   ],
   "source": [
    "response = llm_with_tools.invoke(\"Hola como estas?\")\n",
    "response.text"
   ]
  }
 ],
 "metadata": {
  "kernelspec": {
   "display_name": ".venv",
   "language": "python",
   "name": "python3"
  },
  "language_info": {
   "codemirror_mode": {
    "name": "ipython",
    "version": 3
   },
   "file_extension": ".py",
   "mimetype": "text/x-python",
   "name": "python",
   "nbconvert_exporter": "python",
   "pygments_lexer": "ipython3",
   "version": "3.12.3"
  }
 },
 "nbformat": 4,
 "nbformat_minor": 5
}
