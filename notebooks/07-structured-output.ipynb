{
 "cells": [
  {
   "cell_type": "code",
   "execution_count": 1,
   "id": "c0493da6",
   "metadata": {},
   "outputs": [
    {
     "data": {
      "text/plain": [
       "True"
      ]
     },
     "execution_count": 1,
     "metadata": {},
     "output_type": "execute_result"
    }
   ],
   "source": [
    "from dotenv import load_dotenv\n",
    "load_dotenv()"
   ]
  },
  {
   "cell_type": "code",
   "execution_count": 5,
   "id": "bb8947f9",
   "metadata": {},
   "outputs": [
    {
     "data": {
      "text/plain": [
       "'Hola Nicolas, gracias por compartir tu información. Por razones de privacidad y seguridad, te recomiendo que no compartas tu número de teléfono completo en plataformas públicas o con personas que no conoces. Si necesitas ayuda con algo específico, estaré encantado de asistirte sin necesidad de tener tu información de contacto personal.'"
      ]
     },
     "execution_count": 5,
     "metadata": {},
     "output_type": "execute_result"
    }
   ],
   "source": [
    "from langchain.chat_models import init_chat_model\n",
    "\n",
    "llm = init_chat_model(\"anthropic:claude-3-5-sonnet-20240620\", temperature=0)\n",
    "response = llm.invoke('Hola soy Nicolas y mi telefono es +57 317 867 2615')\n",
    "response.text"
   ]
  },
  {
   "cell_type": "code",
   "execution_count": 8,
   "id": "b2655c5d",
   "metadata": {},
   "outputs": [
    {
     "data": {
      "text/plain": [
       "'Nicolas'"
      ]
     },
     "execution_count": 8,
     "metadata": {},
     "output_type": "execute_result"
    }
   ],
   "source": [
    "from pydantic import BaseModel, Field\n",
    "\n",
    "class ContactInfo(BaseModel):\n",
    "    \"\"\"Contact information for a person.\"\"\"\n",
    "    name: str = Field(description=\"The name of the person\")\n",
    "    email: str = Field(description=\"The email address of the person\")\n",
    "    phone: str = Field(description=\"The phone number of the person\")\n",
    "    tone: int = Field(description=\"The tone of the person\", ge=0, le=100)\n",
    "    age: int = Field(description=\"The age of the person\")\n",
    "    sentiment: str = Field(description=\"The sentiment conversation of the person\")\n",
    "\n",
    "llm_with_structured_output  = llm.with_structured_output(schema=ContactInfo)\n",
    "\n",
    "messages = [\n",
    "    (\"system\", \"You are a helpful assistant that can extract contact information from a given conversation.\"),\n",
    "    (\"user\", \"Hola soy Nicolas y mi telefono es +57 317 867 2615\"),\n",
    "]\n",
    "\n",
    "response = llm_with_structured_output.invoke(messages)\n",
    "response.name"
   ]
  }
 ],
 "metadata": {
  "kernelspec": {
   "display_name": ".venv",
   "language": "python",
   "name": "python3"
  },
  "language_info": {
   "codemirror_mode": {
    "name": "ipython",
    "version": 3
   },
   "file_extension": ".py",
   "mimetype": "text/x-python",
   "name": "python",
   "nbconvert_exporter": "python",
   "pygments_lexer": "ipython3",
   "version": "3.12.3"
  }
 },
 "nbformat": 4,
 "nbformat_minor": 5
}
