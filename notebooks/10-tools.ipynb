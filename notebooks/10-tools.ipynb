{
 "cells": [
  {
   "cell_type": "code",
   "execution_count": 1,
   "id": "2147ca1d",
   "metadata": {},
   "outputs": [
    {
     "data": {
      "text/plain": [
       "True"
      ]
     },
     "execution_count": 1,
     "metadata": {},
     "output_type": "execute_result"
    }
   ],
   "source": [
    "from dotenv import load_dotenv\n",
    "load_dotenv()"
   ]
  },
  {
   "cell_type": "code",
   "execution_count": 3,
   "id": "38fd830c",
   "metadata": {},
   "outputs": [
    {
     "data": {
      "text/plain": [
       "'¡Hola! Estoy muy bien, gracias por preguntar. ¿Cómo estás tú? ¿En qué puedo ayudarte hoy?'"
      ]
     },
     "execution_count": 3,
     "metadata": {},
     "output_type": "execute_result"
    }
   ],
   "source": [
    "from langchain.chat_models import init_chat_model\n",
    "\n",
    "llm = init_chat_model(\"anthropic:claude-opus-4-1-20250805\", temperature=0)\n",
    "response = llm.invoke(\"Hola, como estas?\")\n",
    "response.text"
   ]
  },
  {
   "cell_type": "code",
   "execution_count": 4,
   "id": "b2729faa",
   "metadata": {},
   "outputs": [
    {
     "data": {
      "text/plain": [
       "'Bogotá tiene un **clima frío de montaña** con características muy particulares:\\n\\n## Características principales:\\n\\n🌡️ **Temperatura**\\n- Promedio anual: 14°C (57°F)\\n- Máximas: raramente superan los 20°C\\n- Mínimas: pueden bajar hasta 5-7°C en madrugadas\\n\\n🌧️ **Lluvias**\\n- Dos temporadas lluviosas: abril-mayo y octubre-noviembre\\n- Dos temporadas secas: diciembre-marzo y julio-agosto\\n- Precipitación anual: aproximadamente 800-1000 mm\\n\\n☁️ **Condiciones generales**\\n- Ubicada a 2,640 metros sobre el nivel del mar\\n- Cielo frecuentemente nublado\\n- Humedad relativa alta (70-80%)\\n- No tiene estaciones marcadas (primavera, verano, otoño, invierno)\\n\\n## Recomendaciones:\\n- Llevar siempre una chaqueta o abrigo ligero\\n- Tener paraguas o impermeable a mano\\n- Vestirse en capas (el clima puede cambiar durante el día)\\n- En las mañanas y noches hace más frío\\n\\nLos bogotanos suelen decir que pueden experimentar \"todas las estaciones en un solo día\" debido a la variabilidad del clima.'"
      ]
     },
     "execution_count": 4,
     "metadata": {},
     "output_type": "execute_result"
    }
   ],
   "source": [
    "response = llm.invoke(\"Que clima hace en la ciudad de Bogota?\")\n",
    "response.text"
   ]
  },
  {
   "cell_type": "code",
   "execution_count": 6,
   "id": "c541e13a",
   "metadata": {},
   "outputs": [
    {
     "data": {
      "text/plain": [
       "'¡Hola! Bienvenido a nuestra tienda. Me da mucho gusto atenderte.\\n\\nContamos con los siguientes productos para ti:\\n\\n🖥️ **Computadora** - Equipos completos para todas tus necesidades de trabajo y entretenimiento\\n\\n🖱️ **Mouse** - Para un control preciso y cómodo de tu computadora\\n\\n⌨️ **Teclado** - Teclados de calidad para una escritura eficiente\\n\\n🎧 **Audífonos** - Para disfrutar de tu música, videollamadas o gaming con el mejor sonido\\n\\n🗒️ **Mousepad** - Superficies ideales para mejorar la precisión y comodidad al usar tu mouse\\n\\n¿Hay algún producto en particular que te interese? ¡Con gusto te puedo dar más información y ayudarte a encontrar exactamente lo que necesitas!'"
      ]
     },
     "execution_count": 6,
     "metadata": {},
     "output_type": "execute_result"
    }
   ],
   "source": [
    "system_prompt = \"\"\"\n",
    "Eres un asistente de ventas que ayuda a los clientes a encontrar los productos que necesitan.\n",
    "\n",
    "Y tus productos son:\n",
    "- Computadora\n",
    "- Mouse\n",
    "- Teclado\n",
    "- Audifonos\n",
    "- Mousepad\n",
    "\"\"\"\n",
    "messages = [\n",
    "    (\"system\", system_prompt),\n",
    "    (\"user\", \"Dime los productos que ofreces en la tienda\")\n",
    "]\n",
    "response = llm.invoke(messages)\n",
    "response.text"
   ]
  },
  {
   "cell_type": "code",
   "execution_count": null,
   "id": "5b085ed1",
   "metadata": {},
   "outputs": [],
   "source": [
    "from langchain_core.tools import tool\n",
    "import requests\n",
    "\n",
    "@tool(\"get_products\", description=\"Get the products that the store offers filter by price\")\n",
    "def get_products():\n",
    "    # Connnect with API\n",
    "    \"\"\"Get the products that the store offers\"\"\"\n",
    "    response = requests.get(\"https://api.escuelajs.co/api/v1/products\")\n",
    "    products = response.json()\n",
    "    return \"\".join([f\"{product['title']} - {product['price']}\" for product in products])\n",
    "\n"
   ]
  },
  {
   "cell_type": "code",
   "execution_count": 33,
   "id": "b0ae0e16",
   "metadata": {},
   "outputs": [
    {
     "data": {
      "text/plain": [
       "\"Majestic Mountain Graphic T-Shirt - 44Classic Red Pullover Hoodie - 10Classic Black Hooded Sweatshirt - 79Classic Comfort Fit Joggers - 25Classic Comfort Drawstring Joggers - 79Classic Red Jogger Sweatpants - 98Classic Navy Blue Baseball Cap - 61Classic Blue Baseball Cap - 86Classic Red Baseball Cap - 35Classic Black Baseball Cap - 58Classic Olive Chino Shorts - 84Classic High-Waisted Athletic Shorts - 43Classic White Crew Neck T-Shirt - 39Classic White Tee - Timeless Style and Comfort - 73Classic Black T-Shirt - 35Sleek White & Orange Wireless Gaming Controller - 69Sleek Wireless Headphone & Inked Earbud Set - 44Sleek Comfort-Fit Over-Ear Headphones - 28Efficient 2-Slice Toaster - 48Sleek Wireless Computer Mouse - 10Sleek Modern Laptop with Ambient Lighting - 43Sleek Modern Laptop for Professionals - 97Stylish Red & Silver Over-Ear Headphones - 39Sleek Mirror Finish Phone Case - 27Sleek Smartwatch with Vibrant Display - 16Sleek Modern Leather Sofa - 53Mid-Century Modern Wooden Dining Table - 24Elegant Golden-Base Stone Top Dining Table - 66Modern Elegance Teal Armchair - 25Elegant Solid Wood Dining Table - 67Modern Minimalist Workstation Setup - 49Modern Ergonomic Office Chair - 71Futuristic Holographic Soccer Cleats - 39Rainbow Glitter High Heels - 39Chic Summer Denim Espadrille Sandals - 33Vibrant Runners: Bold Orange & Blue Sneakers - 27Vibrant Pink Classic Sneakers - 84Futuristic Silver and Gold High-Top Sneaker - 68Futuristic Chic High-Heel Boots - 36Elegant Patent Leather Peep-Toe Pumps with Gold-Tone Heel - 53Elegant Purple Leather Loafers - 17Classic Blue Suede Casual Shoes - 39Sleek Futuristic Electric Bicycle - 22Sleek All-Terrain Go-Kart - 37Radiant Citrus Eau de Parfum - 73Sleek Olive Green Hardshell Carry-On Luggage - 48Chic Transparent Fashion Handbag - 61Trendy Pink-Tinted Sunglasses - 38Elegant Glass Tumbler Set - 50New Product - 10New Product 1758443349562 - 10New Product 1758443361357 - 10New Product 1758443627672 - 10New Product 1758443646253 - 10New Product 1758443708071 - 1000New Product 1758443885545 - 10New Product 1758443925641 - 10New Product Hossam 1758444067041 - 10New Product Hossam 1758444081126 - 10New Product Hossam 1758444084087 - 10#New Product Api 1758444626463@ - 1250#New Product Api 1758444819471@ - 1250LINH Product - 10838LH Product - 10838Ok Product - 1938PTYL Product - 194948Product-8233 - 417Product-5815 - 36Product-5546 - 29Product-6539 - 7Product-9290 - 87Product-6915 - 250New Cotton Shirt2 - 1100Mobile Phones - 10New Producthoss - 100New Product5 - 10#New Product Api 1758454706474@ - 1250hat - 1250cow - 1250Fjallraven - Foldsack No. 1 Backpack, Fits 15 Laptops - 109Mens Casual Premium Slim Fit T-Shirts  - 22Mens Cotton Jacket - 55Mens Casual Slim Fit - 15John Hardy Women's Legends Naga Gold & Silver Dragon Station Chain Bracelet - 695Solid Gold Petite Micropave  - 168White Gold Plated Princess - 9Pierced Owl Rose Gold Plated Stainless Steel Double - 10WD 2TB Elements Portable External Hard Drive - USB 3.0  - 64SanDisk SSD PLUS 1TB Internal SSD - SATA III 6 Gb/s - 109Silicon Power 256GB SSD 3D NAND A55 SLC Cache Performance Boost SATA III 2.5 - 109WD 4TB Gaming Drive Works with Playstation 4 Portable External Hard Drive - 114Acer SB220Q bi 21.5 inches Full HD (1920 x 1080) IPS Ultra-Thin - 599Samsung 49-Inch CHG90 144Hz Curved Gaming Monitor (LC49HG90DMNXZA) – Super Ultrawide Screen QLED  - 999BIYLACLESEN Women's 3-in-1 Snowboard Jacket Winter Coats - 56Lock and Love Women's Removable Hooded Faux Leather Moto Biker Jacket - 29Rain Jacket Women Windbreaker Striped Climbing Raincoats - 39MBJ Women's Solid Short Sleeve Boat Neck V  - 9Opna Women's Short Sleeve Moisture - 7DANVOUY Womens T Shirt Casual Cotton Short - 12test - 5000000Novo Curso de Celga 2 - 99New Product888 - 10New Product777 - 10test product - 13333333test 55 product - 1355333\""
      ]
     },
     "execution_count": 33,
     "metadata": {},
     "output_type": "execute_result"
    }
   ],
   "source": [
    "get_products.invoke({})"
   ]
  },
  {
   "cell_type": "code",
   "execution_count": null,
   "id": "aa2ba977",
   "metadata": {},
   "outputs": [
    {
     "data": {
      "text/plain": [
       "'The weather in bogota is 18.5C with 5.8km/h of wind.'"
      ]
     },
     "execution_count": 35,
     "metadata": {},
     "output_type": "execute_result"
    }
   ],
   "source": [
    "@tool(\"get_weather\", description=\"Get the weather of a city\")\n",
    "def get_weather(city: str):\n",
    "    response = requests.get(f\"https://geocoding-api.open-meteo.com/v1/search?name={city}&count=1\")\n",
    "    data = response.json()\n",
    "    latitude = data[\"results\"][0][\"latitude\"]\n",
    "    longitude = data[\"results\"][0][\"longitude\"]\n",
    "    response = requests.get(f\"https://api.open-meteo.com/v1/forecast?latitude={latitude}&longitude={longitude}&current_weather=true\")\n",
    "    data = response.json()\n",
    "    response = f\"The weather in {city} is {data[\"current_weather\"][\"temperature\"]}C with {data[\"current_weather\"][\"windspeed\"]}km/h of wind.\"\n",
    "    return response\n",
    "\n",
    "get_weather.invoke({\"city\": \"bogota\"})"
   ]
  },
  {
   "cell_type": "code",
   "execution_count": null,
   "id": "91cde197",
   "metadata": {},
   "outputs": [
    {
     "data": {
      "text/plain": [
       "[{'name': 'get_products',\n",
       "  'args': {},\n",
       "  'id': 'toolu_018f6L8Q7uDAptsZKu2Vmavs',\n",
       "  'type': 'tool_call'}]"
      ]
     },
     "execution_count": 38,
     "metadata": {},
     "output_type": "execute_result"
    }
   ],
   "source": [
    "system_prompt = \"\"\"\n",
    "Eres un asistente de ventas que ayuda a los clientes a encontrar los productos que necesitan y dar el clima de la ciudad\n",
    "\n",
    "Tus tools son:\n",
    "- get_products: para obtener los productos que ofreces en la tienda\n",
    "- get_weather: para obtener el clima de la ciudad\n",
    "\"\"\"\n",
    "messages = [\n",
    "    (\"system\", system_prompt),\n",
    "    (\"user\", \"Dime los productos que ofreces en la tienda\")\n",
    "]\n",
    "llm_with_tools = llm.bind_tools([get_products, get_weather])\n",
    "response = llm_with_tools.invoke(messages)\n",
    "response.tool_calls"
   ]
  },
  {
   "cell_type": "code",
   "execution_count": 39,
   "id": "d21dd764",
   "metadata": {},
   "outputs": [
    {
     "data": {
      "text/plain": [
       "'¡Hola! ¡Muy bien, gracias por preguntar! 👋\\n\\nSoy tu asistente de ventas y estoy aquí para ayudarte. Puedo:\\n\\n1. **Mostrarte los productos** que tenemos disponibles en nuestra tienda\\n2. **Consultar el clima** de cualquier ciudad que necesites\\n\\n¿En qué puedo ayudarte hoy? ¿Te gustaría ver nuestros productos o necesitas información del clima de alguna ciudad?'"
      ]
     },
     "execution_count": 39,
     "metadata": {},
     "output_type": "execute_result"
    }
   ],
   "source": [
    "messages = [\n",
    "    (\"system\", system_prompt),\n",
    "    (\"user\", \"Hola, que tal?\")\n",
    "]\n",
    "response = llm_with_tools.invoke(messages)\n",
    "response.text"
   ]
  },
  {
   "cell_type": "code",
   "execution_count": 42,
   "id": "54c7dbc2",
   "metadata": {},
   "outputs": [
    {
     "data": {
      "text/plain": [
       "[{'name': 'get_weather',\n",
       "  'args': {'city': 'La Paz'},\n",
       "  'id': 'toolu_01UesvbowYfK9eG8X4H8RLYp',\n",
       "  'type': 'tool_call'}]"
      ]
     },
     "execution_count": 42,
     "metadata": {},
     "output_type": "execute_result"
    }
   ],
   "source": [
    "system_prompt = \"\"\"\n",
    "Eres un asistente de ventas que ayuda a los clientes a encontrar los productos que necesitan y dar el clima de la ciudad\n",
    "\n",
    "Tus tools son:\n",
    "- get_products: para obtener los productos que ofreces en la tienda\n",
    "- get_weather: para obtener el clima de la ciudad\n",
    "\"\"\"\n",
    "messages = [\n",
    "    (\"system\", system_prompt),\n",
    "    (\"user\", \"Cual es el clima en la capital de Bolivia?\")\n",
    "]\n",
    "llm_with_tools = llm.bind_tools([get_products, get_weather])\n",
    "response = llm_with_tools.invoke(messages)\n",
    "response.tool_calls"
   ]
  }
 ],
 "metadata": {
  "kernelspec": {
   "display_name": ".venv",
   "language": "python",
   "name": "python3"
  },
  "language_info": {
   "codemirror_mode": {
    "name": "ipython",
    "version": 3
   },
   "file_extension": ".py",
   "mimetype": "text/x-python",
   "name": "python",
   "nbconvert_exporter": "python",
   "pygments_lexer": "ipython3",
   "version": "3.12.3"
  }
 },
 "nbformat": 4,
 "nbformat_minor": 5
}
