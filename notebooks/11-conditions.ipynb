{
 "cells": [
  {
   "cell_type": "code",
   "execution_count": 1,
   "id": "d3886c89",
   "metadata": {},
   "outputs": [],
   "source": [
    "from typing import TypedDict\n",
    "\n",
    "class State(TypedDict):\n",
    "    customer_name: str\n",
    "    my_age: int"
   ]
  },
  {
   "cell_type": "code",
   "execution_count": 2,
   "id": "a81ecef4",
   "metadata": {},
   "outputs": [],
   "source": [
    "def node_1(state: State):\n",
    "    return state\n",
    "\n",
    "def node_2(state: State):\n",
    "    return state\n",
    "\n",
    "def node_3(state: State):\n",
    "    return state"
   ]
  },
  {
   "cell_type": "code",
   "execution_count": 6,
   "id": "8c8732fd",
   "metadata": {},
   "outputs": [],
   "source": [
    "import random\n",
    "from typing import Literal\n",
    "\n",
    "def route_edge(state: State) -> Literal[\"node_2\", \"node_3\"]:\n",
    "    if random.random() < 0.5:\n",
    "        return 'node_2'\n",
    "    return 'node_3'\n"
   ]
  },
  {
   "cell_type": "code",
   "execution_count": 7,
   "id": "07fe82fd",
   "metadata": {},
   "outputs": [],
   "source": [
    "from langgraph.graph import StateGraph, START, END\n",
    "\n",
    "builder = StateGraph(State)\n",
    "builder.add_node(\"node_1\", node_1)\n",
    "builder.add_node(\"node_2\", node_2)\n",
    "builder.add_node(\"node_3\", node_3)\n",
    "\n",
    "builder.add_edge(START, 'node_1')\n",
    "builder.add_conditional_edges('node_1', route_edge)\n",
    "builder.add_edge('node_2', END)\n",
    "builder.add_edge('node_3', END)\n",
    "\n",
    "agent = builder.compile()"
   ]
  },
  {
   "cell_type": "code",
   "execution_count": 8,
   "id": "5c8460af",
   "metadata": {},
   "outputs": [
    {
     "name": "stdout",
     "output_type": "stream",
     "text": [
      "        +-----------+          \n",
      "        | __start__ |          \n",
      "        +-----------+          \n",
      "               *               \n",
      "               *               \n",
      "               *               \n",
      "          +--------+           \n",
      "          | node_1 |           \n",
      "          +--------+           \n",
      "          .         .          \n",
      "        ..           ..        \n",
      "       .               .       \n",
      "+--------+          +--------+ \n",
      "| node_2 |          | node_3 | \n",
      "+--------+          +--------+ \n",
      "          *         *          \n",
      "           **     **           \n",
      "             *   *             \n",
      "          +---------+          \n",
      "          | __end__ |          \n",
      "          +---------+          \n"
     ]
    }
   ],
   "source": [
    "print(agent.get_graph().draw_ascii())"
   ]
  },
  {
   "cell_type": "code",
   "execution_count": 9,
   "id": "a4788db0",
   "metadata": {},
   "outputs": [
    {
     "name": "stdout",
     "output_type": "stream",
     "text": [
      "        +-----------+          \n",
      "        | __start__ |          \n",
      "        +-----------+          \n",
      "          .         .          \n",
      "        ..           ..        \n",
      "       .               .       \n",
      "+--------+          +--------+ \n",
      "| node_2 |          | node_3 | \n",
      "+--------+          +--------+ \n",
      "          *         *          \n",
      "           **     **           \n",
      "             *   *             \n",
      "          +---------+          \n",
      "          | __end__ |          \n",
      "          +---------+          \n"
     ]
    }
   ],
   "source": [
    "from langgraph.graph import StateGraph, START, END\n",
    "\n",
    "builder = StateGraph(State)\n",
    "builder.add_node(\"node_2\", node_2)\n",
    "builder.add_node(\"node_3\", node_3)\n",
    "\n",
    "builder.add_conditional_edges(START, route_edge)\n",
    "builder.add_edge('node_2', END)\n",
    "builder.add_edge('node_3', END)\n",
    "\n",
    "agent = builder.compile()\n",
    "print(agent.get_graph().draw_ascii())"
   ]
  }
 ],
 "metadata": {
  "kernelspec": {
   "display_name": ".venv",
   "language": "python",
   "name": "python3"
  },
  "language_info": {
   "codemirror_mode": {
    "name": "ipython",
    "version": 3
   },
   "file_extension": ".py",
   "mimetype": "text/x-python",
   "name": "python",
   "nbconvert_exporter": "python",
   "pygments_lexer": "ipython3",
   "version": "3.12.3"
  }
 },
 "nbformat": 4,
 "nbformat_minor": 5
}
